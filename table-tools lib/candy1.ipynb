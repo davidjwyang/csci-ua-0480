{
 "cells": [
  {
   "cell_type": "code",
   "execution_count": 29,
   "metadata": {},
   "outputs": [
    {
     "name": "stdout",
     "output_type": "stream",
     "text": [
      "                    competitorname                     chocolate                        fruity                       caramel                peanutyalmondy                        nougat              crispedricewafer                          hard                           bar                      pluribus                  sugarpercent                  pricepercent                    winpercent\n",
      "  81                      Warheads                      0.000000                      1.000000                      0.000000                      0.000000                      0.000000                      0.000000                      1.000000                      0.000000                      0.000000                      0.093000                      0.116000                     39.011898\n",
      "  82         WelchÃ•s Fruit Snacks                      0.000000                      1.000000                      0.000000                      0.000000                      0.000000                      0.000000                      0.000000                      0.000000                      1.000000                      0.313000                      0.313000                     44.375519\n",
      "  83   WertherÃ•s Original Caramel                      0.000000                      0.000000                      1.000000                      0.000000                      0.000000                      0.000000                      1.000000                      0.000000                      0.000000                      0.186000                      0.267000                     41.904308\n",
      "  84                      Whoppers                      1.000000                      0.000000                      0.000000                      0.000000                      0.000000                      1.000000                      0.000000                      0.000000                      1.000000                      0.872000                      0.848000                     49.524113\n",
      "\n"
     ]
    }
   ],
   "source": [
    "import tabletools as tt\n",
    "candy_table = tt.read_csv('candy-data.csv')\n",
    "print(candy_table.tail(4))"
   ]
  },
  {
   "cell_type": "code",
   "execution_count": 30,
   "metadata": {},
   "outputs": [
    {
     "name": "stdout",
     "output_type": "stream",
     "text": [
      "                    competitorname                     chocolate                peanutyalmondy                    winpercent\n",
      "   0                     100 Grand                      1.000000                      0.000000                     66.971725\n",
      "   1                  3 Musketeers                      1.000000                      0.000000                     67.602936\n",
      "   2                    Almond Joy                      1.000000                      1.000000                     50.347546\n",
      "   3                     Baby Ruth                      1.000000                      1.000000                     56.914547\n",
      "   4               Charleston Chew                      1.000000                      0.000000                     38.975037\n",
      "   5             HersheyÃ•s Kisses                      1.000000                      0.000000                     55.375454\n",
      "   6            HersheyÃ•s Krackel                      1.000000                      0.000000                     62.284481\n",
      "   7     HersheyÃ•s Milk Chocolate                      1.000000                      0.000000                     56.490501\n",
      "   8       HersheyÃ•s Special Dark                      1.000000                      0.000000                     59.236122\n",
      "   9                  Junior Mints                      1.000000                      0.000000                     57.219250\n",
      "  10                       Kit Kat                      1.000000                      0.000000                     76.768600\n",
      "  11          Peanut butter M&MÃ•s                      1.000000                      1.000000                     71.465050\n",
      "  12                        M&MÃ•s                      1.000000                      0.000000                     66.574585\n",
      "  13                     Milk Duds                      1.000000                      0.000000                     55.064072\n",
      "  14                     Milky Way                      1.000000                      0.000000                     73.099556\n",
      "  15            Milky Way Midnight                      1.000000                      0.000000                     60.800701\n",
      "  16      Milky Way Simply Caramel                      1.000000                      0.000000                     64.353340\n",
      "  17                        Mounds                      1.000000                      0.000000                     47.829754\n",
      "  18                   Mr Good Bar                      1.000000                      1.000000                     54.526451\n",
      "  19           Nestle Butterfinger                      1.000000                      1.000000                     70.735641\n",
      "  20                 Nestle Crunch                      1.000000                      0.000000                     66.470680\n",
      "  21                   Peanut M&Ms                      1.000000                      1.000000                     69.483788\n",
      "  22           ReeseÃ•s Miniatures                      1.000000                      1.000000                     81.866257\n",
      "  23    ReeseÃ•s Peanut Butter cup                      1.000000                      1.000000                     84.180290\n",
      "  24               ReeseÃ•s pieces                      1.000000                      1.000000                     73.434990\n",
      "  25  ReeseÃ•s stuffed with pieces                      1.000000                      1.000000                     72.887901\n",
      "  26                          Rolo                      1.000000                      0.000000                     65.716286\n",
      "  27                       Sixlets                      1.000000                      0.000000                     34.722000\n",
      "  28               Nestle Smarties                      1.000000                      0.000000                     37.887188\n",
      "  29                      Snickers                      1.000000                      1.000000                     76.673782\n",
      "  30              Snickers Crisper                      1.000000                      1.000000                     59.529251\n",
      "  31                   Tootsie Pop                      1.000000                      0.000000                     48.982651\n",
      "  32          Tootsie Roll Juniors                      1.000000                      0.000000                     43.068897\n",
      "  33          Tootsie Roll Midgies                      1.000000                      0.000000                     45.736748\n",
      "  34       Tootsie Roll Snack Bars                      1.000000                      0.000000                     49.653503\n",
      "  35                          Twix                      1.000000                      0.000000                     81.642914\n",
      "  36                      Whoppers                      1.000000                      0.000000                     49.524113\n",
      "\n"
     ]
    }
   ],
   "source": [
    "table = candy_table[candy_table['chocolate'] == 1.0]['competitorname', 'chocolate', 'peanutyalmondy', 'winpercent']\n",
    "print(table)"
   ]
  },
  {
   "cell_type": "code",
   "execution_count": 31,
   "metadata": {},
   "outputs": [
    {
     "name": "stdout",
     "output_type": "stream",
     "text": [
      "                    competitorname                     chocolate                peanutyalmondy                    winpercent\n",
      "   2                    Almond Joy                      1.000000                      1.000000                     50.347546\n",
      "   3                     Baby Ruth                      1.000000                      1.000000                     56.914547\n",
      "  11          Peanut butter M&MÃ•s                      1.000000                      1.000000                     71.465050\n",
      "  18                   Mr Good Bar                      1.000000                      1.000000                     54.526451\n",
      "  19           Nestle Butterfinger                      1.000000                      1.000000                     70.735641\n",
      "  21                   Peanut M&Ms                      1.000000                      1.000000                     69.483788\n",
      "  22           ReeseÃ•s Miniatures                      1.000000                      1.000000                     81.866257\n",
      "  23    ReeseÃ•s Peanut Butter cup                      1.000000                      1.000000                     84.180290\n",
      "  24               ReeseÃ•s pieces                      1.000000                      1.000000                     73.434990\n",
      "  25  ReeseÃ•s stuffed with pieces                      1.000000                      1.000000                     72.887901\n",
      "  29                      Snickers                      1.000000                      1.000000                     76.673782\n",
      "  30              Snickers Crisper                      1.000000                      1.000000                     59.529251\n",
      "\n"
     ]
    }
   ],
   "source": [
    "isPeanutyAlmondy = [ True if x==1.0 else False for x in table['peanutyalmondy'] ] \n",
    "table = table[isPeanutyAlmondy]\n",
    "print(table)"
   ]
  },
  {
   "cell_type": "code",
   "execution_count": 32,
   "metadata": {},
   "outputs": [
    {
     "name": "stdout",
     "output_type": "stream",
     "text": [
      "                    competitorname                     chocolate                peanutyalmondy                    winpercent\n",
      "\n"
     ]
    }
   ],
   "source": [
    "lost = [ True if x<.50 else False for x in table['winpercent'] ]\n",
    "print(table[lost])"
   ]
  },
  {
   "cell_type": "code",
   "execution_count": 33,
   "metadata": {},
   "outputs": [
    {
     "name": "stdout",
     "output_type": "stream",
     "text": [
      "                    competitorname                     chocolate                peanutyalmondy                    winpercent\n",
      "  22           ReeseÃ•s Miniatures                      1.000000                      1.000000                     81.866257\n",
      "  23    ReeseÃ•s Peanut Butter cup                      1.000000                      1.000000                     84.180290\n",
      "  24               ReeseÃ•s pieces                      1.000000                      1.000000                     73.434990\n",
      "  25  ReeseÃ•s stuffed with pieces                      1.000000                      1.000000                     72.887901\n",
      "\n"
     ]
    }
   ],
   "source": [
    "f = lambda string: True if string[:5]==\"Reese\" else False\n",
    "reese = [f(x) for x in table['competitorname'] ]\n",
    "print(table[reese])"
   ]
  },
  {
   "cell_type": "code",
   "execution_count": 35,
   "metadata": {},
   "outputs": [
    {
     "name": "stdout",
     "output_type": "stream",
     "text": [
      "                    competitorname                     chocolate                peanutyalmondy                    winpercent\n",
      "   3                     Baby Ruth                      1.000000                      1.000000                     56.914547\n",
      "  29                      Snickers                      1.000000                      1.000000                     76.673782\n",
      "\n"
     ]
    }
   ],
   "source": [
    "f = lambda string: True if len(string)<10 else False\n",
    "lessThan10 = [ f(x) for x in table['competitorname'] ]\n",
    "print(table[lessThan10])"
   ]
  },
  {
   "cell_type": "code",
   "execution_count": 38,
   "metadata": {},
   "outputs": [
    {
     "data": {
      "text/plain": [
       "array([['elk', 'fox']], \n",
       "      dtype='<U4')"
      ]
     },
     "execution_count": 38,
     "metadata": {},
     "output_type": "execute_result"
    }
   ],
   "source": [
    "import numpy as np\n",
    "animals = np.array([['ant','bat','cat'], ['dog', 'elk', 'fox'], ['gnu', 'hen', 'ibis']])\n",
    "animals[1:2, 1:]"
   ]
  },
  {
   "cell_type": "code",
   "execution_count": null,
   "metadata": {
    "collapsed": true
   },
   "outputs": [],
   "source": []
  }
 ],
 "metadata": {
  "celltoolbar": "Edit Metadata",
  "kernelspec": {
   "display_name": "Python 3",
   "language": "python",
   "name": "python3"
  },
  "language_info": {
   "codemirror_mode": {
    "name": "ipython",
    "version": 3
   },
   "file_extension": ".py",
   "mimetype": "text/x-python",
   "name": "python",
   "nbconvert_exporter": "python",
   "pygments_lexer": "ipython3",
   "version": "3.6.3"
  }
 },
 "nbformat": 4,
 "nbformat_minor": 2
}
