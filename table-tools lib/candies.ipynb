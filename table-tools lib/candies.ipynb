{
 "cells": [
  {
   "cell_type": "code",
   "execution_count": 9,
   "metadata": {
    "collapsed": true
   },
   "outputs": [],
   "source": []
  },
  {
   "cell_type": "code",
   "execution_count": 2,
   "metadata": {
    "collapsed": true
   },
   "outputs": [],
   "source": [
    "candies = read_csv('candy-data.csv')"
   ]
  },
  {
   "cell_type": "code",
   "execution_count": 3,
   "metadata": {},
   "outputs": [
    {
     "data": {
      "text/plain": [
       "      competitornamechocolatefruitycaramelpeanutyalmondynougatcrispedricewafer  hard   barpluribussugarpercentpricepercentwinpercent\n",
       "    81Warheads   0.0   1.0   0.0   0.0   0.0   0.0   1.0   0.0   0.00.093000002 0.11639.011898\n",
       "    82WelchÕs Fruit Snacks   0.0   1.0   0.0   0.0   0.0   0.0   0.0   0.0   1.00.312999990.3129999944.375519\n",
       "    83WertherÕs Original Caramel   0.0   0.0   1.0   0.0   0.0   0.0   1.0   0.0   0.0 0.1860.2669999941.904308\n",
       "    84Whoppers   1.0   0.0   0.0   0.0   0.0   1.0   0.0   0.0   1.00.871999980.8479999949.524113"
      ]
     },
     "execution_count": 3,
     "metadata": {},
     "output_type": "execute_result"
    }
   ],
   "source": [
    "#1. display the last 4 rows of the data set\n",
    "tail_candies = candies.tail(4)\n",
    "tail_candies"
   ]
  },
  {
   "cell_type": "code",
   "execution_count": 10,
   "metadata": {},
   "outputs": [
    {
     "data": {
      "text/plain": [
       "                          competitorname           chocolate      peanutyalmondy          winpercent\n",
       "                   0           100 Grand                 1.0                 0.0           66.971725\n",
       "                   1        3 Musketeers                 1.0                 0.0           67.602936\n",
       "                   2            One dime                 0.0                 0.0           32.261086\n",
       "                   3         One quarter                 0.0                 0.0           46.116505\n",
       "                   4           Air Heads                 0.0                 0.0           52.341465\n",
       "                   5          Almond Joy                 1.0                 1.0           50.347546\n",
       "                   6           Baby Ruth                 1.0                 1.0           56.914547\n",
       "                   7  Boston Baked Beans                 0.0                 1.0           23.417824\n",
       "                   8          Candy Corn                 0.0                 0.0           38.010963\n",
       "                   9  Caramel Apple Pops                 0.0                 0.0           34.517681\n",
       "                  10     Charleston Chew                 1.0                 0.0           38.975037\n",
       "                  11Chewey Lemonhead Fruit Mix                 0.0                 0.0           36.017628\n",
       "                  12            Chiclets                 0.0                 0.0           24.524988\n",
       "                  13                Dots                 0.0                 0.0           42.272076\n",
       "                  14            Dum Dums                 0.0                 0.0           39.460556\n",
       "                  15         Fruit Chews                 0.0                 0.0           43.088924\n",
       "                  16             Fun Dip                 0.0                 0.0           39.185505\n",
       "                  17          Gobstopper                 0.0                 0.0           46.783348\n",
       "                  18   Haribo Gold Bears                 0.0                 0.0            57.11974\n",
       "                  19   Haribo Happy Cola                 0.0                 0.0           34.158958\n",
       "                  20   Haribo Sour Bears                 0.0                 0.0            51.41243\n",
       "                  21  Haribo Twin Snakes                 0.0                 0.0           42.178772\n",
       "                  22    HersheyÕs Kisses                 1.0                 0.0           55.375454\n",
       "                  23   HersheyÕs Krackel                 1.0                 0.0           62.284481\n",
       "                  24HersheyÕs Milk Chocolate                 1.0                 0.0           56.490501\n",
       "                  25HersheyÕs Special Dark                 1.0                 0.0           59.236122\n",
       "                  26          Jawbusters                 0.0                 0.0           28.127439\n",
       "                  27        Junior Mints                 1.0                 0.0            57.21925\n",
       "                  28             Kit Kat                 1.0                 0.0             76.7686\n",
       "                  29         Laffy Taffy                 0.0                 0.0           41.389557\n",
       "                  30           Lemonhead                 0.0                 0.0           39.141056\n",
       "                  31Lifesavers big ring gummies                 0.0                 0.0           52.911392\n",
       "                  32 Peanut butter M&MÕs                 1.0                 1.0            71.46505\n",
       "                  33               M&MÕs                 1.0                 0.0           66.574585\n",
       "                  34          Mike & Ike                 0.0                 0.0           46.411716\n",
       "                  35           Milk Duds                 1.0                 0.0           55.064072\n",
       "                  36           Milky Way                 1.0                 0.0           73.099556\n",
       "                  37  Milky Way Midnight                 1.0                 0.0           60.800701\n",
       "                  38Milky Way Simply Caramel                 1.0                 0.0            64.35334\n",
       "                  39              Mounds                 1.0                 0.0           47.829754\n",
       "                  40         Mr Good Bar                 1.0                 1.0           54.526451\n",
       "                  41               Nerds                 0.0                 0.0           55.354046\n",
       "                  42 Nestle Butterfinger                 1.0                 1.0           70.735641\n",
       "                  43       Nestle Crunch                 1.0                 0.0            66.47068\n",
       "                  44           Nik L Nip                 0.0                 0.0           22.445341\n",
       "                  45         Now & Later                 0.0                 0.0             39.4468\n",
       "                  46              Payday                 0.0                 1.0           46.296597\n",
       "                  47         Peanut M&Ms                 1.0                 1.0           69.483788\n",
       "                  48        Pixie Sticks                 0.0                 0.0           37.722336\n",
       "                  49           Pop Rocks                 0.0                 0.0           41.265511\n",
       "                  50           Red vines                 0.0                 0.0           37.348522\n",
       "                  51  ReeseÕs Miniatures                 1.0                 1.0           81.866257\n",
       "                  52ReeseÕs Peanut Butter cup                 1.0                 1.0            84.18029\n",
       "                  53      ReeseÕs pieces                 1.0                 1.0            73.43499\n",
       "                  54ReeseÕs stuffed with pieces                 1.0                 1.0           72.887901\n",
       "                  55            Ring pop                 0.0                 0.0           35.290756\n",
       "                  56                Rolo                 1.0                 0.0           65.716286\n",
       "                  57   Root Beer Barrels                 0.0                 0.0           29.703691\n",
       "                  58               Runts                 0.0                 0.0           42.849144\n",
       "                  59             Sixlets                 1.0                 0.0              34.722\n",
       "                  60   Skittles original                 0.0                 0.0            63.08514\n",
       "                  61  Skittles wildberry                 0.0                 0.0           55.103695\n",
       "                  62     Nestle Smarties                 1.0                 0.0           37.887188\n",
       "                  63      Smarties candy                 0.0                 0.0           45.995827\n",
       "                  64            Snickers                 1.0                 1.0           76.673782\n",
       "                  65    Snickers Crisper                 1.0                 1.0           59.529251\n",
       "                  66     Sour Patch Kids                 0.0                 0.0           59.863998\n",
       "                  67Sour Patch Tricksters                 0.0                 0.0           52.825947\n",
       "                  68           Starburst                 0.0                 0.0           67.037628\n",
       "                  69 Strawberry bon bons                 0.0                 0.0           34.578991\n",
       "                  70        Sugar Babies                 0.0                 0.0            33.43755\n",
       "                  71         Sugar Daddy                 0.0                 0.0           32.230995\n",
       "                  72        Super Bubble                 0.0                 0.0           27.303865\n",
       "                  73        Swedish Fish                 0.0                 0.0           54.861111\n",
       "                  74         Tootsie Pop                 1.0                 0.0           48.982651\n",
       "                  75Tootsie Roll Juniors                 1.0                 0.0           43.068897\n",
       "                  76Tootsie Roll Midgies                 1.0                 0.0           45.736748\n",
       "                  77Tootsie Roll Snack Bars                 1.0                 0.0           49.653503\n",
       "                  78   Trolli Sour Bites                 0.0                 0.0           47.173229\n",
       "                  79                Twix                 1.0                 0.0           81.642914\n",
       "                  80           Twizzlers                 0.0                 0.0           45.466282\n",
       "                  81            Warheads                 0.0                 0.0           39.011898\n",
       "                  82WelchÕs Fruit Snacks                 0.0                 0.0           44.375519\n",
       "                  83WertherÕs Original Caramel                 0.0                 0.0           41.904308\n",
       "                  84            Whoppers                 1.0                 0.0           49.524113"
      ]
     },
     "execution_count": 10,
     "metadata": {},
     "output_type": "execute_result"
    }
   ],
   "source": [
    "#2. show the candy name, if it's chocolate, if it's peanuty/almondy, and its win percentage for all candy that is chocolate\n",
    "few = candies[['competitorname', 'chocolate', 'peanutyalmondy', 'winpercent']]\n",
    "few"
   ]
  },
  {
   "cell_type": "code",
   "execution_count": 5,
   "metadata": {},
   "outputs": [
    {
     "name": "stdout",
     "output_type": "stream",
     "text": [
      "* These are the candies candies that are peanuty/almondy:\n",
      "Almond Joy\n",
      "Baby Ruth\n",
      "Boston Baked Beans\n",
      "Peanut butter M&MÕs\n",
      "Mr Good Bar\n",
      "Nestle Butterfinger\n",
      "Payday\n",
      "Peanut M&Ms\n",
      "ReeseÕs Miniatures\n",
      "ReeseÕs Peanut Butter cup\n",
      "ReeseÕs pieces\n",
      "ReeseÕs stuffed with pieces\n",
      "Snickers\n",
      "Snickers Crisper\n"
     ]
    }
   ],
   "source": [
    "#3. add another criteria: only candies that are peanuty/almondy\n",
    "print (\"* These are the candies candies that are peanuty/almondy:\")\n",
    "pa = few[['competitorname','peanutyalmondy']]\n",
    "p_list = pa.values\n",
    "new = [x for [x,y] in p_list if y==1.0]\n",
    "for x in new:\n",
    "    print (x)"
   ]
  },
  {
   "cell_type": "code",
   "execution_count": 6,
   "metadata": {},
   "outputs": [
    {
     "name": "stdout",
     "output_type": "stream",
     "text": [
      "There are 46 candies that lost!\n"
     ]
    }
   ],
   "source": [
    "#4. let's see how many chocolate and peanut candies lost \n",
    "wl = few[['competitorname','winpercent']]\n",
    "lost = [x for [x,y] in wl.values if y<50.0]\n",
    "print (\"There are {0} candies that lost!\".format(len(lost)))\n",
    "# print (\"These are the candies that lost: {0}\".format(lost))"
   ]
  },
  {
   "cell_type": "code",
   "execution_count": 7,
   "metadata": {},
   "outputs": [
    {
     "name": "stdout",
     "output_type": "stream",
     "text": [
      "* These are the candies whose name starts with 'Reese':\n",
      "ReeseÕs Miniatures\n",
      "ReeseÕs Peanut Butter cup\n",
      "ReeseÕs pieces\n",
      "ReeseÕs stuffed with pieces\n"
     ]
    }
   ],
   "source": [
    "#5. candies whose name starts with \"Reese\":\n",
    "print (\"* These are the candies whose name starts with 'Reese':\")\n",
    "names = few[['competitorname']]\n",
    "for x in names.values:\n",
    "    s = str(x[0])\n",
    "    if s[0:5]==\"Reese\":\n",
    "        print (s)"
   ]
  },
  {
   "cell_type": "code",
   "execution_count": 11,
   "metadata": {},
   "outputs": [
    {
     "name": "stdout",
     "output_type": "stream",
     "text": [
      "* These are the candies whose name is less than 10 characters long:\n",
      "100 Grand\n",
      "One dime\n",
      "Air Heads\n",
      "Baby Ruth\n",
      "Chiclets\n",
      "Dots\n",
      "Dum Dums\n",
      "Fun Dip\n",
      "Kit Kat\n",
      "Lemonhead\n",
      "M&MÕs\n",
      "Milk Duds\n",
      "Milky Way\n",
      "Mounds\n",
      "Nerds\n",
      "Nik L Nip\n",
      "Payday\n",
      "Pop Rocks\n",
      "Red vines\n",
      "Ring pop\n",
      "Rolo\n",
      "Runts\n",
      "Sixlets\n",
      "Snickers\n",
      "Starburst\n",
      "Twix\n",
      "Twizzlers\n",
      "Warheads\n",
      "Whoppers\n"
     ]
    }
   ],
   "source": [
    "#6. show all the candies whose name is less than 10 characters long\n",
    "print (\"* These are the candies whose name is less than 10 characters long:\")\n",
    "for x in names.values:\n",
    "    if len(str(x[0]))<10:\n",
    "        print (str(x[0]))\n",
    "        \n",
    "# ns = [x for x in names.values if len(str(x[0]))<10]\n",
    "# ns"
   ]
  },
  {
   "cell_type": "code",
   "execution_count": null,
   "metadata": {
    "collapsed": true
   },
   "outputs": [],
   "source": []
  },
  {
   "cell_type": "code",
   "execution_count": null,
   "metadata": {
    "collapsed": true
   },
   "outputs": [],
   "source": []
  },
  {
   "cell_type": "code",
   "execution_count": null,
   "metadata": {
    "collapsed": true
   },
   "outputs": [],
   "source": []
  },
  {
   "cell_type": "code",
   "execution_count": null,
   "metadata": {
    "collapsed": true
   },
   "outputs": [],
   "source": []
  },
  {
   "cell_type": "code",
   "execution_count": null,
   "metadata": {
    "collapsed": true,
    "scrolled": true
   },
   "outputs": [],
   "source": []
  },
  {
   "cell_type": "code",
   "execution_count": null,
   "metadata": {
    "collapsed": true
   },
   "outputs": [],
   "source": []
  },
  {
   "cell_type": "code",
   "execution_count": null,
   "metadata": {
    "collapsed": true,
    "scrolled": true
   },
   "outputs": [],
   "source": []
  },
  {
   "cell_type": "code",
   "execution_count": null,
   "metadata": {
    "collapsed": true
   },
   "outputs": [],
   "source": []
  },
  {
   "cell_type": "code",
   "execution_count": null,
   "metadata": {
    "collapsed": true
   },
   "outputs": [],
   "source": []
  },
  {
   "cell_type": "code",
   "execution_count": null,
   "metadata": {
    "collapsed": true
   },
   "outputs": [],
   "source": []
  },
  {
   "cell_type": "code",
   "execution_count": null,
   "metadata": {
    "collapsed": true
   },
   "outputs": [],
   "source": []
  },
  {
   "cell_type": "code",
   "execution_count": null,
   "metadata": {
    "collapsed": true
   },
   "outputs": [],
   "source": [
    "\n"
   ]
  },
  {
   "cell_type": "code",
   "execution_count": null,
   "metadata": {
    "collapsed": true
   },
   "outputs": [],
   "source": []
  }
 ],
 "metadata": {
  "kernelspec": {
   "display_name": "Python 3",
   "language": "python",
   "name": "python3"
  },
  "language_info": {
   "codemirror_mode": {
    "name": "ipython",
    "version": 3
   },
   "file_extension": ".py",
   "mimetype": "text/x-python",
   "name": "python",
   "nbconvert_exporter": "python",
   "pygments_lexer": "ipython3",
   "version": "3.6.3"
  }
 },
 "nbformat": 4,
 "nbformat_minor": 2
}
