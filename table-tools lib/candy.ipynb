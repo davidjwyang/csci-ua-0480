{
 "cells": [
  {
   "cell_type": "code",
   "execution_count": 47,
   "metadata": {},
   "outputs": [
    {
     "name": "stdout",
     "output_type": "stream",
     "text": [
      "                   competitorname  chocolate  fruity  caramel  peanutyalmondy  nougat  crispedricewafer  hard  bar  pluribus  sugarpercent  pricepercent  winpercent\n",
      "  81                     Warheads        0.0     1.0      0.0             0.0     0.0               0.0   1.0  0.0       0.0   0.093000002         0.116   39.011898\n",
      "  82        WelchÃ•s Fruit Snacks        0.0     1.0      0.0             0.0     0.0               0.0   0.0  0.0       1.0    0.31299999    0.31299999   44.375519\n",
      "  83  WertherÃ•s Original Caramel        0.0     0.0      1.0             0.0     0.0               0.0   1.0  0.0       0.0         0.186    0.26699999   41.904308\n",
      "  84                     Whoppers        1.0     0.0      0.0             0.0     0.0               1.0   0.0  0.0       1.0    0.87199998    0.84799999   49.524113\n",
      "\n"
     ]
    }
   ],
   "source": [
    "import tabletools as tt\n",
    "candy_table = tt.read_csv('candy-data.csv')\n",
    "print(candy_table.tail(4))\n",
    "table1 = candy_table['competitorname', 'chocolate', 'peanutyalmondy', 'winpercent']"
   ]
  },
  {
   "cell_type": "code",
   "execution_count": 48,
   "metadata": {},
   "outputs": [
    {
     "name": "stdout",
     "output_type": "stream",
     "text": [
      "                    competitorname  chocolate  peanutyalmondy  winpercent\n",
      "   0                     100 Grand        1.0             0.0   66.971725\n",
      "   1                  3 Musketeers        1.0             0.0   67.602936\n",
      "   2                    Almond Joy        1.0             1.0   50.347546\n",
      "   3                     Baby Ruth        1.0             1.0   56.914547\n",
      "   4               Charleston Chew        1.0             0.0   38.975037\n",
      "   5             HersheyÃ•s Kisses        1.0             0.0   55.375454\n",
      "   6            HersheyÃ•s Krackel        1.0             0.0   62.284481\n",
      "   7     HersheyÃ•s Milk Chocolate        1.0             0.0   56.490501\n",
      "   8       HersheyÃ•s Special Dark        1.0             0.0   59.236122\n",
      "   9                  Junior Mints        1.0             0.0    57.21925\n",
      "  10                       Kit Kat        1.0             0.0     76.7686\n",
      "  11          Peanut butter M&MÃ•s        1.0             1.0    71.46505\n",
      "  12                        M&MÃ•s        1.0             0.0   66.574585\n",
      "  13                     Milk Duds        1.0             0.0   55.064072\n",
      "  14                     Milky Way        1.0             0.0   73.099556\n",
      "  15            Milky Way Midnight        1.0             0.0   60.800701\n",
      "  16      Milky Way Simply Caramel        1.0             0.0    64.35334\n",
      "  17                        Mounds        1.0             0.0   47.829754\n",
      "  18                   Mr Good Bar        1.0             1.0   54.526451\n",
      "  19           Nestle Butterfinger        1.0             1.0   70.735641\n",
      "  20                 Nestle Crunch        1.0             0.0    66.47068\n",
      "  21                   Peanut M&Ms        1.0             1.0   69.483788\n",
      "  22           ReeseÃ•s Miniatures        1.0             1.0   81.866257\n",
      "  23    ReeseÃ•s Peanut Butter cup        1.0             1.0    84.18029\n",
      "  24               ReeseÃ•s pieces        1.0             1.0    73.43499\n",
      "  25  ReeseÃ•s stuffed with pieces        1.0             1.0   72.887901\n",
      "  26                          Rolo        1.0             0.0   65.716286\n",
      "  27                       Sixlets        1.0             0.0      34.722\n",
      "  28               Nestle Smarties        1.0             0.0   37.887188\n",
      "  29                      Snickers        1.0             1.0   76.673782\n",
      "  30              Snickers Crisper        1.0             1.0   59.529251\n",
      "  31                   Tootsie Pop        1.0             0.0   48.982651\n",
      "  32          Tootsie Roll Juniors        1.0             0.0   43.068897\n",
      "  33          Tootsie Roll Midgies        1.0             0.0   45.736748\n",
      "  34       Tootsie Roll Snack Bars        1.0             0.0   49.653503\n",
      "  35                          Twix        1.0             0.0   81.642914\n",
      "  36                      Whoppers        1.0             0.0   49.524113\n",
      "\n"
     ]
    }
   ],
   "source": [
    "table2 = candy_table[candy_table['chocolate'] == 1.0]['competitorname', 'chocolate', 'peanutyalmondy', 'winpercent']\n",
    "print(table2)"
   ]
  },
  {
   "cell_type": "code",
   "execution_count": 49,
   "metadata": {},
   "outputs": [
    {
     "name": "stdout",
     "output_type": "stream",
     "text": [
      "                    competitorname  chocolate  peanutyalmondy  winpercent\n",
      "   2                    Almond Joy        1.0             1.0   50.347546\n",
      "   3                     Baby Ruth        1.0             1.0   56.914547\n",
      "  11          Peanut butter M&MÃ•s        1.0             1.0    71.46505\n",
      "  18                   Mr Good Bar        1.0             1.0   54.526451\n",
      "  19           Nestle Butterfinger        1.0             1.0   70.735641\n",
      "  21                   Peanut M&Ms        1.0             1.0   69.483788\n",
      "  22           ReeseÃ•s Miniatures        1.0             1.0   81.866257\n",
      "  23    ReeseÃ•s Peanut Butter cup        1.0             1.0    84.18029\n",
      "  24               ReeseÃ•s pieces        1.0             1.0    73.43499\n",
      "  25  ReeseÃ•s stuffed with pieces        1.0             1.0   72.887901\n",
      "  29                      Snickers        1.0             1.0   76.673782\n",
      "  30              Snickers Crisper        1.0             1.0   59.529251\n",
      "\n"
     ]
    }
   ],
   "source": [
    "isPeanutyAlmondy = [ True if x==1.0 else False for x in table['peanutyalmondy'] ] \n",
    "table3 = table[isPeanutyAlmondy]\n",
    "print(table3)"
   ]
  },
  {
   "cell_type": "code",
   "execution_count": 51,
   "metadata": {},
   "outputs": [
    {
     "name": "stdout",
     "output_type": "stream",
     "text": [
      "0 chocolate and peanut candy lost\n",
      "\n",
      "      competitorname  chocolate  peanutyalmondy  winpercent\n",
      "\n"
     ]
    }
   ],
   "source": [
    "lost = [ True if x<50 else False for x in table3['winpercent'] ]\n",
    "print(len(table3[lost].values), 'chocolate and peanut candy lost\\n')\n",
    "print(table3[lost])"
   ]
  },
  {
   "cell_type": "code",
   "execution_count": 52,
   "metadata": {},
   "outputs": [
    {
     "name": "stdout",
     "output_type": "stream",
     "text": [
      "                    competitorname  chocolate  peanutyalmondy  winpercent\n",
      "  51           ReeseÃ•s Miniatures        1.0             1.0   81.866257\n",
      "  52    ReeseÃ•s Peanut Butter cup        1.0             1.0    84.18029\n",
      "  53               ReeseÃ•s pieces        1.0             1.0    73.43499\n",
      "  54  ReeseÃ•s stuffed with pieces        1.0             1.0   72.887901\n",
      "\n"
     ]
    }
   ],
   "source": [
    "f = lambda string: True if string[:5]==\"Reese\" else False\n",
    "reese = [f(x) for x in table1['competitorname'] ]\n",
    "print(table1[reese])"
   ]
  },
  {
   "cell_type": "code",
   "execution_count": 53,
   "metadata": {},
   "outputs": [
    {
     "name": "stdout",
     "output_type": "stream",
     "text": [
      "      competitorname  chocolate  peanutyalmondy  winpercent\n",
      "   0       100 Grand        1.0             0.0   66.971725\n",
      "   2        One dime        0.0             0.0   32.261086\n",
      "   4       Air Heads        0.0             0.0   52.341465\n",
      "   6       Baby Ruth        1.0             1.0   56.914547\n",
      "  12        Chiclets        0.0             0.0   24.524988\n",
      "  13            Dots        0.0             0.0   42.272076\n",
      "  14        Dum Dums        0.0             0.0   39.460556\n",
      "  16         Fun Dip        0.0             0.0   39.185505\n",
      "  28         Kit Kat        1.0             0.0     76.7686\n",
      "  30       Lemonhead        0.0             0.0   39.141056\n",
      "  33          M&MÃ•s        1.0             0.0   66.574585\n",
      "  35       Milk Duds        1.0             0.0   55.064072\n",
      "  36       Milky Way        1.0             0.0   73.099556\n",
      "  39          Mounds        1.0             0.0   47.829754\n",
      "  41           Nerds        0.0             0.0   55.354046\n",
      "  44       Nik L Nip        0.0             0.0   22.445341\n",
      "  46          Payday        0.0             1.0   46.296597\n",
      "  49       Pop Rocks        0.0             0.0   41.265511\n",
      "  50       Red vines        0.0             0.0   37.348522\n",
      "  55        Ring pop        0.0             0.0   35.290756\n",
      "  56            Rolo        1.0             0.0   65.716286\n",
      "  58           Runts        0.0             0.0   42.849144\n",
      "  59         Sixlets        1.0             0.0      34.722\n",
      "  64        Snickers        1.0             1.0   76.673782\n",
      "  68       Starburst        0.0             0.0   67.037628\n",
      "  79            Twix        1.0             0.0   81.642914\n",
      "  80       Twizzlers        0.0             0.0   45.466282\n",
      "  81        Warheads        0.0             0.0   39.011898\n",
      "  84        Whoppers        1.0             0.0   49.524113\n",
      "\n"
     ]
    }
   ],
   "source": [
    "f = lambda string: True if len(string)<10 else False\n",
    "lessThan10 = [ f(x) for x in table1['competitorname'] ]\n",
    "print(table1[lessThan10])"
   ]
  }
 ],
 "metadata": {
  "kernelspec": {
   "display_name": "Python 3",
   "language": "python",
   "name": "python3"
  },
  "language_info": {
   "codemirror_mode": {
    "name": "ipython",
    "version": 3
   },
   "file_extension": ".py",
   "mimetype": "text/x-python",
   "name": "python",
   "nbconvert_exporter": "python",
   "pygments_lexer": "ipython3",
   "version": "3.6.3"
  }
 },
 "nbformat": 4,
 "nbformat_minor": 2
}
